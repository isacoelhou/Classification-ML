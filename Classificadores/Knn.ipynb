{
 "cells": [
  {
   "cell_type": "code",
   "execution_count": null,
   "metadata": {},
   "outputs": [],
   "source": [
    "import pandas as pd\n",
    "import sklearn as sk\n",
    "import matplotlib.pyplot as plt\n",
    "import numpy as np\n",
    "import seaborn as sns\n",
    "from sklearn.utils import shuffle\n",
    "from sklearn.model_selection import train_test_split\n",
    "from sklearn.neighbors import KNeighborsClassifier\n",
    "from sklearn.metrics import accuracy_score\n",
    "from sklearn.metrics import confusion_matrix\n"
   ]
  },
  {
   "cell_type": "code",
   "execution_count": null,
   "metadata": {},
   "outputs": [],
   "source": [
    "dados = pd.read_csv(\"../Dataset/studentp.csv\")\n",
    "\n",
    "dados = shuffle(dados)\n",
    "\n",
    "X = dados.iloc[:,:-1]\n",
    "Y = dados.iloc[:,-1]\n",
    "\n",
    "x_treino,x_temp,y_treino,y_temp=train_test_split(X,Y,test_size=0.5,stratify=Y)\n",
    "x_validacao,x_teste,y_validacao,y_teste=train_test_split(x_temp,y_temp,test_size=0.5, stratify = y_temp)\n",
    "\n",
    "print(\"Treino\")\n",
    "x_treino.info()\n",
    "y_treino.info()\n",
    "\n",
    "print(\"\\nValidação\")\n",
    "x_validacao.info()\n",
    "y_validacao.info()\n",
    "\n",
    "print(\"\\nTeste\")\n",
    "x_teste.info()\n",
    "y_teste.info()"
   ]
  },
  {
   "cell_type": "code",
   "execution_count": null,
   "metadata": {},
   "outputs": [],
   "source": [
    "taxa_de_erro = []\n",
    "for j in (\"distance\",\"uniform\"):\n",
    "    for i in range (1,50):\n",
    "        KNN = KNeighborsClassifier(n_neighbors=i,weights=j)\n",
    "        KNN.fit(x_treino,y_treino)\n",
    "        opiniao = KNN.predict(x_validacao)\n",
    "        taxa_de_erro.append(np.mean(opiniao!=y_validacao))\n",
    "        print(\"K: \",i,\" Métrica: \", j, \" Acc: \",accuracy_score(y_validacao, opiniao))\n",
    "\n",
    "print(\"\\n\\nVetor de Erros\")\n",
    "print(taxa_de_erro)\n",
    "\n",
    "\n",
    "melhor_k=np.argmin(taxa_de_erro)+1\n",
    "print(\"\\nMelhor K:\", melhor_k,\"\\n\\n\")\n",
    "\n",
    "plt.figure (figsize=(11,7))\n",
    "plt.plot(range(1,50),taxa_de_erro,color='blue',linestyle='dashed',marker='o')\n",
    "plt.xlabel('K')\n",
    "plt.ylabel('Erro')\n",
    "plt.show()\n",
    "\n",
    "#aplica-se o K encontrado em um KNN sobre o conjunto de teste\n",
    "KNN = KNeighborsClassifier(n_neighbors=melhor_k,weights=\"distance\")\n",
    "KNN.fit(x_treino,y_treino)\n",
    "opiniao = KNN.predict(x_teste)\n",
    "print(\"\\n\\nK: \",i,\"Métrica: \", j, \" Acurácia sobre o teste: \",accuracy_score(y_teste, opiniao))"
   ]
  },
  {
   "cell_type": "code",
   "execution_count": null,
   "metadata": {},
   "outputs": [],
   "source": [
    "maior = -1\n",
    "for j in (\"distance\",\"uniform\"):\n",
    "  for i in range (1,50):\n",
    "    KNN = KNeighborsClassifier(n_neighbors=i,weights=j)\n",
    "    KNN.fit(x_treino,y_treino)\n",
    "    opiniao = KNN.predict(x_validacao)\n",
    "    Acc = accuracy_score(y_validacao, opiniao)\n",
    "    print(\"K: \",i,\" Métrica: \",j,\" Acc: \",Acc)\n",
    "    if (Acc > maior):\n",
    "      maior = Acc\n",
    "      Melhor_k = i\n",
    "      Melhor_metrica = j\n",
    "\n",
    "print(\"\\nMelhor configuração para o KNN\")\n",
    "print(\"K: \",Melhor_k,\" Métrica: \",Melhor_metrica,\" Acurácia sobre a validação: \",maior)\n",
    "\n",
    "print(\"\\n\\nDesempenho sobre o conjunto de teste\")\n",
    "KNN = KNeighborsClassifier(n_neighbors=i,weights=j)\n",
    "KNN.fit(x_treino,y_treino)\n",
    "opiniao = KNN.predict(x_teste)\n",
    "print(\"\\n\\nK: \",i,\" Acurácia sobre o teste: \",accuracy_score(y_teste, opiniao))"
   ]
  }
 ],
 "metadata": {
  "language_info": {
   "name": "python"
  }
 },
 "nbformat": 4,
 "nbformat_minor": 2
}
